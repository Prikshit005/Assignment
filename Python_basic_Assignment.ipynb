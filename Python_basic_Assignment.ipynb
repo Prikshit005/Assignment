{
  "nbformat": 4,
  "nbformat_minor": 0,
  "metadata": {
    "colab": {
      "provenance": []
    },
    "kernelspec": {
      "name": "python3",
      "display_name": "Python 3"
    },
    "language_info": {
      "name": "python"
    }
  },
  "cells": [
    {
      "cell_type": "markdown",
      "source": [
        "# Python basic"
      ],
      "metadata": {
        "id": "6eRtp71MmUmb"
      }
    },
    {
      "cell_type": "markdown",
      "source": [
        "**1.  What is Python, and why is it popular?**\n",
        "  - Python is a high-level, interpreted programming language that emphasizes readability and simplicity in its syntax. It was created by Guido van Rossum and first released in 1991. Python is designed to be easy to understand and use, which makes it a great language for beginners while still being powerful enough for experienced developers.\n",
        "\n",
        "   - Here are some reasons why Python is so popular:\n",
        "\n",
        "**A). Readability and Simplicity**\n",
        "\n",
        "Python’s syntax is clean and easy to understand, which makes it ideal for beginners. It uses indentation to define code blocks, which improves readability.\n",
        "\n",
        "**B). Versatility**\n",
        "\n",
        "Python can be used for a wide range of applications, from web development and data analysis to artificial intelligence and machine learning. Its extensive libraries and frameworks (e.g., Django, Flask, TensorFlow, Pandas) make it suitable for nearly every use case.\n",
        "\n",
        "**c). Large Community and Resources**\n",
        "\n",
        "Python has a massive community of developers who contribute to its growth. There are countless tutorials, forums, documentation, and libraries available, making it easier to find solutions to problems or learn from others.\n",
        "\n",
        "**D). Cross-platform**\n",
        "\n",
        "Python is platform-independent, it means we can run Python code on Windows, macOS, and Linux without needing to make major changes.\n",
        "\n",
        "**E). Extensive Libraries and Frameworks**\n",
        "\n",
        "Python offers a wide variety of libraries and frameworks for everything from web development (Flask, Django) to scientific computing (NumPy, SciPy) and machine learning (scikit-learn, TensorFlow, PyTorch).\n",
        "\n",
        "**F). Integration Capabilities**\n",
        "\n",
        "Python can easily integrate with other languages like C, C++, and Java, which makes it an excellent choice for projects that require interoperability.\n",
        "\n",
        "**G). Strong Support for Data Science and AI**\n",
        "\n",
        "Python is one of the most popular languages for data science, machine learning, and artificial intelligence due to its extensive support for libraries like Pandas, NumPy, Matplotlib, TensorFlow, and PyTorch.\n",
        "\n",
        "**H). Good for Prototyping**\n",
        "\n",
        "Python is often used to quickly prototype ideas, as it allows for rapid development and testing of new features without a lot of overhead.\n",
        "\n",
        "These features, along with the growing demand for skills in data science and automation, contribute to Python's widespread popularity and its use in a wide array of industries, from software engineering to finance, healthcare, and beyond."
      ],
      "metadata": {
        "id": "v-Jz_a84m1co"
      }
    },
    {
      "cell_type": "markdown",
      "source": [
        "**2. What is an interpreter in Python?**\n",
        "\n",
        "- In Python, an interpreter is a program that reads and executes Python code line by line. Unlike a compiler, which translates the entire code into machine language at once and then executes it, an interpreter directly executes the code, translating it into machine-readable instructions as it runs."
      ],
      "metadata": {
        "id": "j_VBrHPWrwp3"
      }
    },
    {
      "cell_type": "markdown",
      "source": [
        "**3. What are pre-defined keywords in Python?**\n",
        "- In Python, predefined keywords (often referred to simply as keywords) are reserved words that have a specific meaning in the language and cannot be used as identifiers (like variable names, function names, or class names). These keywords define the syntax and structure of Python programs.\n",
        "-Keywords are part of the Python language's grammar, and they are used to control the flow of execution, define data structures, and interact with the Python runtime."
      ],
      "metadata": {
        "id": "6yAkM0jcsjCG"
      }
    },
    {
      "cell_type": "markdown",
      "source": [
        "**4.  Can keywords be used as variable names?**\n",
        "- Keywords cannot be used as variable names in Python. Keywords are reserved for specific purposes in the Python language. They define the structure and flow of the program."
      ],
      "metadata": {
        "id": "FwsJiSWvug7n"
      }
    },
    {
      "cell_type": "markdown",
      "source": [
        "**5.  What is mutability in Python?**\n",
        "- In Python, mutability refers to the ability of an object to be changed after it is created. Objects in Python can be classified into two categories: mutable and immutable.\n",
        "\n"
      ],
      "metadata": {
        "id": "w4sl8diovv7N"
      }
    },
    {
      "cell_type": "markdown",
      "source": [
        "**6. Why are lists mutable, but tuples are immutable?**\n",
        "\n",
        "- Lists are mutable because they are designed for flexibility and are used when the contents of the collection need to be modified. This is suitable for scenarios like dynamic collections where items might be added or removed.\n",
        "- Tuples are immutable to provide performance advantages, ensure data integrity, and make them suitable for use as keys in dictionaries or elements of sets. Their immutability ensures that the data remains constant and can be optimized by Python for better memory efficiency."
      ],
      "metadata": {
        "id": "J9XNWhgawrqK"
      }
    },
    {
      "cell_type": "markdown",
      "source": [
        "**7.  What is the difference between “==” and “is” operators in Python?**\n",
        "- \"==\" compares the values of objects (whether they are the same).\n",
        "\n",
        "- \"is\" compares the identity of objects (whether they are the same object in memory)."
      ],
      "metadata": {
        "id": "Mf2DlmdayRQf"
      }
    },
    {
      "cell_type": "markdown",
      "source": [
        "**8. What are logical operators in Python?**\n",
        "- In Python, logical operators are used to perform logical operations on Boolean values (i.e., True and False). Here are the three main logical operators in Python:\n",
        "\n",
        "    a) \"and\": Returns True if both statements are true.    \n",
        "b) \"or\": Returns True if at least one of the statements is true.        \n",
        "c) \"not\": Reverses the result, returns False if the statement is true."
      ],
      "metadata": {
        "id": "J-og9on40GBa"
      }
    },
    {
      "cell_type": "markdown",
      "source": [
        "**9.  What is type casting in Python?**\n",
        "- Type casting in Python refers to converting a variable from one data type to another. Python provides built-in functions that allow us to convert between various data types, such as integers, floats, strings, lists, and more. There are two main types of casting:\n",
        "\n",
        "   a) Implicit Type Casting  (also called automatic type conversion)    \n",
        "b) Explicit Type Casting (also called manual type conversion)"
      ],
      "metadata": {
        "id": "Lm3gIPuh1wZj"
      }
    },
    {
      "cell_type": "markdown",
      "source": [
        "**10.  What is the difference between implicit and explicit type casting?**\n",
        "\n",
        "- **Implicit Type Casting** is automatically handled by Python and occurs when there is no risk of data loss or conflict between types (e.g., converting an int to a float).\n",
        "\n",
        "- **Explicit Type Casting** requires the programmer's intervention and is used when we want to convert between types manually, especially when the conversion could involve truncation or rounding, or when the types are incompatible."
      ],
      "metadata": {
        "id": "Tc4jjPYI5BX_"
      }
    },
    {
      "cell_type": "markdown",
      "source": [
        "**11. What is the purpose of conditional statements in Python?**\n",
        "- Conditional statements in Python are used to execute certain blocks of code based on whether a given condition is True or False. They allow for decision-making within the program, enabling it to behave differently depending on specific conditions. These are fundamental in controlling the flow of a program and enabling dynamic behavior."
      ],
      "metadata": {
        "id": "BHADGuFs7xlP"
      }
    },
    {
      "cell_type": "markdown",
      "source": [
        "**12.  How does the elif statement work?**\n",
        "- The elif statement in Python is short for \"else if,\" and it allows us to check multiple conditions sequentially. It is used after an if statement and can be followed by additional elif or else statements to check further conditions or execute a block of code when all preceding conditions are False."
      ],
      "metadata": {
        "id": "5jnaOaq98OJR"
      }
    },
    {
      "cell_type": "markdown",
      "source": [
        "**13. What is the difference between for and while loops?**\n",
        "- In Python, both for and while loops are used to repeat a block of code multiple times, but they differ in how they control the repetition.\n",
        "The key differences between a for loop and a while loop are:\n",
        "\n",
        "**For Loop**: A \"for loop\" is used when we know in advance how many times we want to execute the block of code. It iterates over a sequence (e.g., a list, tuple, string, or range) and executes the block of code for each item in the sequence. The loop variable takes the value of each item in the sequence during each iteration.  \n",
        "\n",
        "**While Loop** A while loop is used when we don’t know in advance how many times we want to execute the block of code. It continues to execute as long as the specified condition is true. It’s important to make sure that the condition eventually becomes false; otherwise, the loop will run indefinitely, resulting in an infinite loop."
      ],
      "metadata": {
        "id": "0GGn28K08zWn"
      }
    },
    {
      "cell_type": "markdown",
      "source": [
        "**14. Describe a scenario where a while loop is more suitable than a for loop.**\n",
        "- A while loop is particularly suitable when we need to repeat an action until a specific condition is met, and we don't know in advance how many iterations are required. This is a classic case for a while loop because it allows us to continue iterating as long as a certain condition is true, which is especially useful when the number of iterations is determined dynamically.\n",
        "- **Scenario: User Authentication System**:  \n",
        "   Imagine we are building a simple authentication system where we repeatedly prompt the user to enter their password. The user should be allowed multiple attempts to enter the correct password, but the system should stop asking once the correct password is provided or after a certain number of failed attempts.\n",
        "\n",
        "Here, we don't know in advance how many attempts the user will need, so a while loop is ideal because we can keep prompting the user until they either succeed or reach the maximum allowed attempts."
      ],
      "metadata": {
        "id": "hromicfNBPtA"
      }
    },
    {
      "cell_type": "markdown",
      "source": [
        "#**Practical questiones**"
      ],
      "metadata": {
        "id": "lecAJMlq7sz8"
      }
    },
    {
      "cell_type": "markdown",
      "source": [
        "**1.  Write a Python program to print \"Hello, World!.**"
      ],
      "metadata": {
        "id": "jUctVaso8a6h"
      }
    },
    {
      "cell_type": "code",
      "source": [
        "print(\"Hello, World!\")\n"
      ],
      "metadata": {
        "colab": {
          "base_uri": "https://localhost:8080/"
        },
        "id": "-URBIkoM8rZ1",
        "outputId": "6080e5f2-07cf-49ac-d62c-c49a064fd4c2"
      },
      "execution_count": 1,
      "outputs": [
        {
          "output_type": "stream",
          "name": "stdout",
          "text": [
            "Hello, World!\n"
          ]
        }
      ]
    },
    {
      "cell_type": "markdown",
      "source": [
        "**2.  Write a Python program that displays your name and age.**"
      ],
      "metadata": {
        "id": "DKt1tx6w9Xda"
      }
    },
    {
      "cell_type": "code",
      "source": [
        "name = \"Prikshit\"\n",
        "age = 30\n",
        "\n",
        "print(\"Name:\", name)\n",
        "print(\"Age:\", age)\n"
      ],
      "metadata": {
        "colab": {
          "base_uri": "https://localhost:8080/"
        },
        "id": "_RDtcwRZ92NI",
        "outputId": "8e60e202-751b-4cfe-d64e-778a6460a0a6"
      },
      "execution_count": 3,
      "outputs": [
        {
          "output_type": "stream",
          "name": "stdout",
          "text": [
            "Name: Prikshit\n",
            "Age: 30\n"
          ]
        }
      ]
    },
    {
      "cell_type": "markdown",
      "source": [
        "**3.  Write code to print all the pre-defined keywords in Python using the keyword library.**"
      ],
      "metadata": {
        "id": "SyzEYVE6-Euj"
      }
    },
    {
      "cell_type": "code",
      "source": [
        "# Print all the keywords in Python\n",
        "print(\"List of Python keywords:\")\n",
        "print(keyword.kwlist)\n"
      ],
      "metadata": {
        "colab": {
          "base_uri": "https://localhost:8080/"
        },
        "id": "ScHeffeB-V8z",
        "outputId": "b400b9a8-b648-47e8-ab2d-514dad1c9819"
      },
      "execution_count": 4,
      "outputs": [
        {
          "output_type": "stream",
          "name": "stdout",
          "text": [
            "List of Python keywords:\n",
            "['False', 'None', 'True', 'and', 'as', 'assert', 'async', 'await', 'break', 'class', 'continue', 'def', 'del', 'elif', 'else', 'except', 'finally', 'for', 'from', 'global', 'if', 'import', 'in', 'is', 'lambda', 'nonlocal', 'not', 'or', 'pass', 'raise', 'return', 'try', 'while', 'with', 'yield']\n"
          ]
        }
      ]
    },
    {
      "cell_type": "markdown",
      "source": [
        "**4.  Write a program that checks if a given word is a Python keyword.**"
      ],
      "metadata": {
        "id": "eymmqtzT-_5s"
      }
    },
    {
      "cell_type": "code",
      "source": [
        "word = input(\"Enter a word to check if it's a Python keyword: \")\n",
        "if keyword.iskeyword(word):\n",
        "    print(f\"'{word}' is a Python keyword.\")\n",
        "else:\n",
        "    print(f\"'{word}' is NOT a Python keyword.\")\n"
      ],
      "metadata": {
        "colab": {
          "base_uri": "https://localhost:8080/"
        },
        "id": "icpWEFr9_P-c",
        "outputId": "e20e133d-9b69-4c5b-d9c6-cc46ec88f151"
      },
      "execution_count": 5,
      "outputs": [
        {
          "output_type": "stream",
          "name": "stdout",
          "text": [
            "Enter a word to check if it's a Python keyword: def\n",
            "'def' is a Python keyword.\n"
          ]
        }
      ]
    },
    {
      "cell_type": "markdown",
      "source": [
        "**5.  Create a list and tuple in Python, and demonstrate how attempting to change an element works differently\n",
        "for each.**"
      ],
      "metadata": {
        "id": "YindSoVUAqfO"
      }
    },
    {
      "cell_type": "code",
      "source": [
        "my_list = [10, 20, 30, 40]\n",
        "my_tuple = (10, 20, 30, 40)\n",
        "print(\"Original List:\", my_list)\n",
        "my_list[2] = 99  # Changing the element at index 2\n",
        "print(\"List after modification:\", my_list)\n",
        "print(\"\\nOriginal Tuple:\", my_tuple)\n",
        "try:\n",
        "    my_tuple[2] = 99  # Attempting to change the element at index 2\n",
        "except TypeError as e:\n",
        "    print(\"Error while modifying tuple:\", e)\n"
      ],
      "metadata": {
        "colab": {
          "base_uri": "https://localhost:8080/"
        },
        "id": "G7c2-78MBMCP",
        "outputId": "f553672c-7159-4e0d-db4a-d6d201394332"
      },
      "execution_count": 6,
      "outputs": [
        {
          "output_type": "stream",
          "name": "stdout",
          "text": [
            "Original List: [10, 20, 30, 40]\n",
            "List after modification: [10, 20, 99, 40]\n",
            "\n",
            "Original Tuple: (10, 20, 30, 40)\n",
            "Error while modifying tuple: 'tuple' object does not support item assignment\n"
          ]
        }
      ]
    },
    {
      "cell_type": "markdown",
      "source": [
        "**6. Write a function to demonstrate the behavior of mutable and immutable arguments.**"
      ],
      "metadata": {
        "id": "cl62mx3PBk7d"
      }
    },
    {
      "cell_type": "code",
      "source": [
        "def demo_mutable_immutable(mutable_arg, immutable_arg):\n",
        "\n",
        "    mutable_arg.append(100)\n",
        "    print(\"Inside function - Mutable argument:\", mutable_arg)\n",
        "    immutable_arg += 10\n",
        "    print(\"Inside function - Immutable argument:\", immutable_arg)\n",
        "my_list = [1, 2, 3]\n",
        "my_int = 5\n",
        "print(\"Before function call:\")\n",
        "print(\"Original list:\", my_list)\n",
        "print(\"Original integer:\", my_int)\n",
        "demo_mutable_immutable(my_list, my_int)\n",
        "print(\"\\nAfter function call:\")\n",
        "print(\"Modified list:\", my_list)\n",
        "print(\"Modified integer:\", my_int)\n"
      ],
      "metadata": {
        "colab": {
          "base_uri": "https://localhost:8080/"
        },
        "id": "gVPcH8mYChHX",
        "outputId": "4d004396-d3bb-4b64-829b-598a79cd3017"
      },
      "execution_count": 9,
      "outputs": [
        {
          "output_type": "stream",
          "name": "stdout",
          "text": [
            "Before function call:\n",
            "Original list: [1, 2, 3]\n",
            "Original integer: 5\n",
            "Inside function - Mutable argument: [1, 2, 3, 100]\n",
            "Inside function - Immutable argument: 15\n",
            "\n",
            "After function call:\n",
            "Modified list: [1, 2, 3, 100]\n",
            "Modified integer: 5\n"
          ]
        }
      ]
    },
    {
      "cell_type": "markdown",
      "source": [
        "** 7. Write a program that performs basic arithmetic operations on two user-input numbers.**\n"
      ],
      "metadata": {
        "id": "sVcWrofpCy_z"
      }
    },
    {
      "cell_type": "code",
      "source": [
        "def arithmetic_operations(num1, num2):\n",
        "\n",
        "    addition = num1 + num2\n",
        "    print(f\"Addition: {num1} + {num2} = {addition}\")\n",
        "\n",
        "    subtraction = num1 - num2\n",
        "    print(f\"Subtraction: {num1} - {num2} = {subtraction}\")\n",
        "\n",
        "    multiplication = num1 * num2\n",
        "    print(f\"Multiplication: {num1} * {num2} = {multiplication}\")\n",
        "\n",
        "    if num2 != 0:\n",
        "        division = num1 / num2\n",
        "        print(f\"Division: {num1} / {num2} = {division}\")\n",
        "    else:\n",
        "        print(\"Division: Cannot divide by zero!\")\n",
        "\n",
        "try:\n",
        "    number1 = float(input(\"Enter the first number: \"))\n",
        "    number2 = float(input(\"Enter the second number: \"))\n",
        "\n",
        "    arithmetic_operations(number1, number2)\n",
        "except ValueError:\n",
        "    print(\"Invalid input! Please enter valid numbers.\")\n"
      ],
      "metadata": {
        "colab": {
          "base_uri": "https://localhost:8080/"
        },
        "id": "_ChDfWCEC39I",
        "outputId": "5591826f-ebe5-4a4d-8fde-bb2b58ae9bbc"
      },
      "execution_count": 10,
      "outputs": [
        {
          "output_type": "stream",
          "name": "stdout",
          "text": [
            "Enter the first number: 10\n",
            "Enter the second number: 5\n",
            "Addition: 10.0 + 5.0 = 15.0\n",
            "Subtraction: 10.0 - 5.0 = 5.0\n",
            "Multiplication: 10.0 * 5.0 = 50.0\n",
            "Division: 10.0 / 5.0 = 2.0\n"
          ]
        }
      ]
    },
    {
      "cell_type": "markdown",
      "source": [
        " **8. Write a program to demonstrate the use of logical operators.**\n"
      ],
      "metadata": {
        "id": "Edb7eFJSDL9Q"
      }
    },
    {
      "cell_type": "code",
      "source": [
        "\n",
        "def logical_operators_demo(a, b):\n",
        "    # AND Operator: Both conditions must be True\n",
        "    if a > 0 and b > 0:\n",
        "        print(f\"Both {a} and {b} are positive.\")\n",
        "    else:\n",
        "        print(f\"At least one of {a} or {b} is non-positive.\")\n",
        "\n",
        "    # OR Operator: At least one condition must be True\n",
        "    if a > 0 or b > 0:\n",
        "        print(f\"At least one of {a} or {b} is positive.\")\n",
        "    else:\n",
        "        print(f\"Neither {a} nor {b} is positive.\")\n",
        "\n",
        "    # NOT Operator: Negates the boolean expression\n",
        "    if not (a > 0):\n",
        "        print(f\"{a} is non-positive (not positive).\")\n",
        "    else:\n",
        "        print(f\"{a} is positive.\")\n",
        "\n",
        "# Taking user input for two numbers\n",
        "try:\n",
        "    number1 = int(input(\"Enter the first number: \"))\n",
        "    number2 = int(input(\"Enter the second number: \"))\n",
        "\n",
        "    # Call function to demonstrate logical operators\n",
        "    logical_operators_demo(number1, number2)\n",
        "except ValueError:\n",
        "    print(\"Invalid input! Please enter valid integers.\")\n"
      ],
      "metadata": {
        "colab": {
          "base_uri": "https://localhost:8080/"
        },
        "id": "FzPFn5sTDS2y",
        "outputId": "226e323f-12e3-4f67-b35f-a48ada9dacce"
      },
      "execution_count": 12,
      "outputs": [
        {
          "output_type": "stream",
          "name": "stdout",
          "text": [
            "Enter the first number: 5\n",
            "Enter the second number: 3\n",
            "Both 5 and 3 are positive.\n",
            "At least one of 5 or 3 is positive.\n",
            "5 is positive.\n"
          ]
        }
      ]
    },
    {
      "cell_type": "markdown",
      "source": [
        " **9. Write a Python program to convert user input from string to integer, float, and boolean types.**\n"
      ],
      "metadata": {
        "id": "dEyuYJ0LEAIa"
      }
    },
    {
      "cell_type": "code",
      "source": [
        "# Function to convert user input to different types\n",
        "def convert_input(input_value):\n",
        "    try:\n",
        "        # Convert input to integer\n",
        "        int_value = int(input_value)\n",
        "        print(f\"Converted to integer: {int_value}\")\n",
        "    except ValueError:\n",
        "        print(\"Cannot convert to integer. The input is not a valid integer.\")\n",
        "\n",
        "    try:\n",
        "        # Convert input to float\n",
        "        float_value = float(input_value)\n",
        "        print(f\"Converted to float: {float_value}\")\n",
        "    except ValueError:\n",
        "        print(\"Cannot convert to float. The input is not a valid float.\")\n",
        "\n",
        "    # Convert input to boolean\n",
        "    bool_value = bool(input_value)\n",
        "    print(f\"Converted to boolean: {bool_value}\")\n",
        "\n",
        "user_input = input(\"Enter a value: \")\n",
        "\n",
        "convert_input(user_input)\n"
      ],
      "metadata": {
        "colab": {
          "base_uri": "https://localhost:8080/"
        },
        "id": "Djf9cD1TEFVj",
        "outputId": "548dd178-0b86-49ef-bc61-db7d2904894f"
      },
      "execution_count": 13,
      "outputs": [
        {
          "output_type": "stream",
          "name": "stdout",
          "text": [
            "Enter a value: 123\n",
            "Converted to integer: 123\n",
            "Converted to float: 123.0\n",
            "Converted to boolean: True\n"
          ]
        }
      ]
    },
    {
      "cell_type": "markdown",
      "source": [
        " **10. Write code to demonstrate type casting with list elements.**\n"
      ],
      "metadata": {
        "id": "FklPUk-FFIwr"
      }
    },
    {
      "cell_type": "code",
      "source": [
        "mixed_list = [1, '2', 3.0, '4.5', True]\n",
        "def cast_elements(input_list):\n",
        "    int_list = [int(float(item)) for item in input_list]\n",
        "    float_list = [float(item) for item in input_list]\n",
        "    str_list = [str(item) for item in input_list]\n",
        "\n",
        "    return int_list, float_list, str_list\n",
        "\n",
        "int_list, float_list, str_list = cast_elements(mixed_list)\n",
        "\n",
        "print(\"Original list:\", mixed_list)\n",
        "print(\"List with elements cast to int:\", int_list)\n",
        "print(\"List with elements cast to float:\", float_list)\n",
        "print(\"List with elements cast to str:\", str_list)\n"
      ],
      "metadata": {
        "colab": {
          "base_uri": "https://localhost:8080/"
        },
        "id": "hfqeug4xFdTx",
        "outputId": "c8f1c220-aa4d-49d3-efbe-157a86ac405e"
      },
      "execution_count": 27,
      "outputs": [
        {
          "output_type": "stream",
          "name": "stdout",
          "text": [
            "Original list: [1, '2', 3.0, '4.5', True]\n",
            "List with elements cast to int: [1, 2, 3, 4, 1]\n",
            "List with elements cast to float: [1.0, 2.0, 3.0, 4.5, 1.0]\n",
            "List with elements cast to str: ['1', '2', '3.0', '4.5', 'True']\n"
          ]
        }
      ]
    },
    {
      "cell_type": "markdown",
      "source": [
        " **11. Write a program that checks if a number is positive, negative, or zero.**\n"
      ],
      "metadata": {
        "id": "Jp_r__PAGPNP"
      }
    },
    {
      "cell_type": "code",
      "source": [
        "def check_number(num):\n",
        "    if num > 0:\n",
        "        print(f\"{num} is a positive number.\")\n",
        "    elif num < 0:\n",
        "        print(f\"{num} is a negative number.\")\n",
        "    else:\n",
        "        print(f\"{num} is zero.\")\n",
        "\n",
        "try:\n",
        "    number = float(input(\"Enter a number: \"))\n",
        "    check_number(number)\n",
        "except ValueError:\n",
        "    print(\"Invalid input! Please enter a valid number.\")\n"
      ],
      "metadata": {
        "colab": {
          "base_uri": "https://localhost:8080/"
        },
        "id": "eAGsu0mUGSHd",
        "outputId": "4326f797-151d-4360-df5b-8b09a786aa34"
      },
      "execution_count": 22,
      "outputs": [
        {
          "output_type": "stream",
          "name": "stdout",
          "text": [
            "Enter a number: 10\n",
            "10.0 is a positive number.\n"
          ]
        }
      ]
    },
    {
      "cell_type": "markdown",
      "source": [
        " **12. Write a for loop to print numbers from 1 to 10.**\n"
      ],
      "metadata": {
        "id": "Ni5m1MHsGjzU"
      }
    },
    {
      "cell_type": "code",
      "source": [
        "for i in range(1, 11):\n",
        "    print(i)\n"
      ],
      "metadata": {
        "colab": {
          "base_uri": "https://localhost:8080/"
        },
        "id": "QNcr2H64GpKb",
        "outputId": "2e317a2c-fac7-46ca-de21-bb942b96144e"
      },
      "execution_count": 23,
      "outputs": [
        {
          "output_type": "stream",
          "name": "stdout",
          "text": [
            "1\n",
            "2\n",
            "3\n",
            "4\n",
            "5\n",
            "6\n",
            "7\n",
            "8\n",
            "9\n",
            "10\n"
          ]
        }
      ]
    },
    {
      "cell_type": "markdown",
      "source": [
        " **13. Write a Python program to find the sum of all even numbers between 1 and 50.**\n"
      ],
      "metadata": {
        "id": "oV7sYuSNG06N"
      }
    },
    {
      "cell_type": "code",
      "source": [
        "sum_of_evens = 0\n",
        "\n",
        "for number in range(1, 51):\n",
        "    # Check if the number is even\n",
        "    if number % 2 == 0:\n",
        "        sum_of_evens += number\n",
        "\n",
        "print(\"The sum of all even numbers between 1 and 50 is:\", sum_of_evens)\n"
      ],
      "metadata": {
        "colab": {
          "base_uri": "https://localhost:8080/"
        },
        "id": "Tcpq2Ls8G5-y",
        "outputId": "4d06d23c-2afe-446a-cc75-44ea6c2718aa"
      },
      "execution_count": 24,
      "outputs": [
        {
          "output_type": "stream",
          "name": "stdout",
          "text": [
            "The sum of all even numbers between 1 and 50 is: 650\n"
          ]
        }
      ]
    },
    {
      "cell_type": "markdown",
      "source": [
        " **14. Write a program to reverse a string using a while loop.**\n"
      ],
      "metadata": {
        "id": "GRwWGHP_HDYM"
      }
    },
    {
      "cell_type": "code",
      "source": [
        "def reverse_string(input_string):\n",
        "\n",
        "    reversed_string = \"\"\n",
        "\n",
        "    index = len(input_string) - 1\n",
        "\n",
        "    while index >= 0:\n",
        "        reversed_string += input_string[index]\n",
        "        index -= 1\n",
        "\n",
        "    return reversed_string\n",
        "\n",
        "user_input = input(\"Enter a string to reverse: \")\n",
        "\n",
        "reversed_str = reverse_string(user_input)\n",
        "\n",
        "print(\"Reversed string:\", reversed_str)\n"
      ],
      "metadata": {
        "colab": {
          "base_uri": "https://localhost:8080/"
        },
        "id": "91XuQTAfHJ0I",
        "outputId": "ede87860-555c-4099-9abe-2446b07c5b0d"
      },
      "execution_count": 25,
      "outputs": [
        {
          "output_type": "stream",
          "name": "stdout",
          "text": [
            "Enter a string to reverse: PYTHON\n",
            "Reversed string: NOHTYP\n"
          ]
        }
      ]
    },
    {
      "cell_type": "markdown",
      "source": [
        " **15. Write a Python program to calculate the factorial of a number provided by the user using a while loop.**\n"
      ],
      "metadata": {
        "id": "hIhy49QfHXtw"
      }
    },
    {
      "cell_type": "code",
      "source": [
        "def calculate_factorial(n):\n",
        "    factorial = 1\n",
        "\n",
        "    if n < 0:\n",
        "        return \"Factorial is not defined for negative numbers\"\n",
        "\n",
        "    while n > 1:\n",
        "        factorial *= n\n",
        "        n -= 1\n",
        "\n",
        "    return factorial\n",
        "\n",
        "try:\n",
        "    number = int(input(\"Enter a number to calculate its factorial: \"))\n",
        "\n",
        "    result = calculate_factorial(number)\n",
        "\n",
        "    print(f\"The factorial of {number} is: {result}\")\n",
        "except ValueError:\n",
        "    print(\"Invalid input! Please enter a valid integer.\")\n"
      ],
      "metadata": {
        "colab": {
          "base_uri": "https://localhost:8080/"
        },
        "id": "tKOE5coEHcO8",
        "outputId": "0a8b0f44-297a-4db8-eaad-2015eb645a83"
      },
      "execution_count": 26,
      "outputs": [
        {
          "output_type": "stream",
          "name": "stdout",
          "text": [
            "Enter a number to calculate its factorial: 5\n",
            "The factorial of 5 is: 120\n"
          ]
        }
      ]
    }
  ]
}